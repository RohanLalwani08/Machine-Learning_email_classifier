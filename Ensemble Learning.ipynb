{
 "cells": [
  {
   "cell_type": "markdown",
   "id": "67746f46",
   "metadata": {},
   "source": [
    "Ensemble learning combines several machine learning models to get optimise results with decreased variance and deacreased bias and hence resulting in better prediction.Variance and bias both are errors"
   ]
  },
  {
   "cell_type": "code",
   "execution_count": 1,
   "id": "1368dd45",
   "metadata": {},
   "outputs": [],
   "source": [
    "import pandas as pd\n",
    "import numpy as np"
   ]
  },
  {
   "cell_type": "code",
   "execution_count": 2,
   "id": "2d94e447",
   "metadata": {},
   "outputs": [
    {
     "data": {
      "text/html": [
       "<div>\n",
       "<style scoped>\n",
       "    .dataframe tbody tr th:only-of-type {\n",
       "        vertical-align: middle;\n",
       "    }\n",
       "\n",
       "    .dataframe tbody tr th {\n",
       "        vertical-align: top;\n",
       "    }\n",
       "\n",
       "    .dataframe thead th {\n",
       "        text-align: right;\n",
       "    }\n",
       "</style>\n",
       "<table border=\"1\" class=\"dataframe\">\n",
       "  <thead>\n",
       "    <tr style=\"text-align: right;\">\n",
       "      <th></th>\n",
       "      <th>Pregnancies</th>\n",
       "      <th>Glucose</th>\n",
       "      <th>BloodPressure</th>\n",
       "      <th>SkinThickness</th>\n",
       "      <th>Insulin</th>\n",
       "      <th>BMI</th>\n",
       "      <th>DiabetesPedigreeFunction</th>\n",
       "      <th>Age</th>\n",
       "      <th>Outcome</th>\n",
       "    </tr>\n",
       "  </thead>\n",
       "  <tbody>\n",
       "    <tr>\n",
       "      <th>0</th>\n",
       "      <td>6</td>\n",
       "      <td>148</td>\n",
       "      <td>72</td>\n",
       "      <td>35</td>\n",
       "      <td>0</td>\n",
       "      <td>33.6</td>\n",
       "      <td>0.627</td>\n",
       "      <td>50</td>\n",
       "      <td>1</td>\n",
       "    </tr>\n",
       "    <tr>\n",
       "      <th>1</th>\n",
       "      <td>1</td>\n",
       "      <td>85</td>\n",
       "      <td>66</td>\n",
       "      <td>29</td>\n",
       "      <td>0</td>\n",
       "      <td>26.6</td>\n",
       "      <td>0.351</td>\n",
       "      <td>31</td>\n",
       "      <td>0</td>\n",
       "    </tr>\n",
       "    <tr>\n",
       "      <th>2</th>\n",
       "      <td>8</td>\n",
       "      <td>183</td>\n",
       "      <td>64</td>\n",
       "      <td>0</td>\n",
       "      <td>0</td>\n",
       "      <td>23.3</td>\n",
       "      <td>0.672</td>\n",
       "      <td>32</td>\n",
       "      <td>1</td>\n",
       "    </tr>\n",
       "    <tr>\n",
       "      <th>3</th>\n",
       "      <td>1</td>\n",
       "      <td>89</td>\n",
       "      <td>66</td>\n",
       "      <td>23</td>\n",
       "      <td>94</td>\n",
       "      <td>28.1</td>\n",
       "      <td>0.167</td>\n",
       "      <td>21</td>\n",
       "      <td>0</td>\n",
       "    </tr>\n",
       "    <tr>\n",
       "      <th>4</th>\n",
       "      <td>0</td>\n",
       "      <td>137</td>\n",
       "      <td>40</td>\n",
       "      <td>35</td>\n",
       "      <td>168</td>\n",
       "      <td>43.1</td>\n",
       "      <td>2.288</td>\n",
       "      <td>33</td>\n",
       "      <td>1</td>\n",
       "    </tr>\n",
       "  </tbody>\n",
       "</table>\n",
       "</div>"
      ],
      "text/plain": [
       "   Pregnancies  Glucose  BloodPressure  SkinThickness  Insulin   BMI  \\\n",
       "0            6      148             72             35        0  33.6   \n",
       "1            1       85             66             29        0  26.6   \n",
       "2            8      183             64              0        0  23.3   \n",
       "3            1       89             66             23       94  28.1   \n",
       "4            0      137             40             35      168  43.1   \n",
       "\n",
       "   DiabetesPedigreeFunction  Age  Outcome  \n",
       "0                     0.627   50        1  \n",
       "1                     0.351   31        0  \n",
       "2                     0.672   32        1  \n",
       "3                     0.167   21        0  \n",
       "4                     2.288   33        1  "
      ]
     },
     "execution_count": 2,
     "metadata": {},
     "output_type": "execute_result"
    }
   ],
   "source": [
    "df=pd.read_csv(r'C:\\archive (2)\\diabetes.csv')\n",
    "df.head()"
   ]
  },
  {
   "cell_type": "code",
   "execution_count": 3,
   "id": "6f309aca",
   "metadata": {},
   "outputs": [],
   "source": [
    "#Define Feature Matrix (X) and Label Array (y)\n",
    "X=df.drop(['Outcome'],axis=1)\n",
    "y=df['Outcome']\n",
    "#Define train and test data set\n",
    "from sklearn.model_selection import train_test_split\n",
    "X_train,X_test,y_train,y_test=train_test_split(X,y,test_size=0.2,random_state=0)\n"
   ]
  },
  {
   "cell_type": "markdown",
   "id": "d8bcea14",
   "metadata": {},
   "source": [
    "Sab Classifiers use karege:"
   ]
  },
  {
   "cell_type": "code",
   "execution_count": 4,
   "id": "6666baf1",
   "metadata": {},
   "outputs": [
    {
     "name": "stdout",
     "output_type": "stream",
     "text": [
      "KNN Accuracy  0.7857142857142857\n"
     ]
    }
   ],
   "source": [
    "#KNN Classifier \n",
    "\n",
    "from sklearn.neighbors import KNeighborsClassifier\n",
    "knn=KNeighborsClassifier(n_neighbors=12)\n",
    "knn.fit(X_train,y_train)\n",
    "y_pred_knn=knn.predict(X_test)\n",
    "print(\"KNN Accuracy \",knn.score(X_test,y_test))\n"
   ]
  },
  {
   "cell_type": "code",
   "execution_count": 5,
   "id": "9c8bc0c6",
   "metadata": {},
   "outputs": [
    {
     "name": "stdout",
     "output_type": "stream",
     "text": [
      "Decision Tree Accuracy  0.7922077922077922\n"
     ]
    }
   ],
   "source": [
    "#Decision Tree Classifier\n",
    "from sklearn.tree import DecisionTreeClassifier\n",
    "dec_cls=DecisionTreeClassifier()\n",
    "dec_cls.fit(X_train,y_train)\n",
    "y_pred_dec=dec_cls.predict(X_test)\n",
    "print(\"Decision Tree Accuracy \",dec_cls.score(X_test,y_test))\n"
   ]
  },
  {
   "cell_type": "code",
   "execution_count": 6,
   "id": "fed2f532",
   "metadata": {},
   "outputs": [
    {
     "name": "stdout",
     "output_type": "stream",
     "text": [
      "Logistic Regression Accuracy  0.8246753246753247\n"
     ]
    }
   ],
   "source": [
    "#Logistics Regression\n",
    "from sklearn.linear_model import LogisticRegression\n",
    "lrc=LogisticRegression(solver='lbfgs',max_iter=1000)\n",
    "lrc.fit(X_train,y_train)\n",
    "y_pred_log=lrc.predict(X_test)\n",
    "print(\"Logistic Regression Accuracy \",lrc.score(X_test,y_test))\n"
   ]
  },
  {
   "cell_type": "code",
   "execution_count": 7,
   "id": "60c36e6d",
   "metadata": {},
   "outputs": [
    {
     "name": "stdout",
     "output_type": "stream",
     "text": [
      "SVC Accuracy  0.8181818181818182\n"
     ]
    }
   ],
   "source": [
    "#Support Vector Machine (SVM) Classifier\n",
    "from sklearn.svm import SVC\n",
    "svc_classifier=SVC(kernel=\"linear\",random_state=0)\n",
    "svc_classifier.fit(X_train,y_train)\n",
    "y_pred_svc=svc_classifier.predict(X_test)\n",
    "print(\"SVC Accuracy \",svc_classifier.score(X_test,y_test))\n"
   ]
  },
  {
   "cell_type": "code",
   "execution_count": 8,
   "id": "bcf5e890",
   "metadata": {},
   "outputs": [
    {
     "name": "stdout",
     "output_type": "stream",
     "text": [
      "Voting Classifier Accuracy  0.8181818181818182\n"
     ]
    }
   ],
   "source": [
    "#Voting Classifier\n",
    "from sklearn.ensemble import VotingClassifier\n",
    "vote_cls=VotingClassifier(estimators=[('lr',svc_classifier),('dt',lrc),('ab',knn),('dec',dec_cls)],voting='hard')\n",
    "vote_cls.fit(X_train,y_train)\n",
    "y_pred_vote_cls=vote_cls.predict(X_test)\n",
    "print('Voting Classifier Accuracy ',vote_cls.score(X_test,y_test))\n"
   ]
  },
  {
   "cell_type": "markdown",
   "id": "f6c44bb1",
   "metadata": {},
   "source": [
    "Hard voting mod value nikalta soft voting average value nikalta.Mostly Hard use hota.Voting Claasinfier is used for ensembling.Bagging reduces the variance"
   ]
  },
  {
   "cell_type": "markdown",
   "id": "e77c17cb",
   "metadata": {},
   "source": [
    "We need to choose any 1 classifier and use it for bagging.Suppose we are choosing decision tree"
   ]
  },
  {
   "cell_type": "code",
   "execution_count": 10,
   "id": "b996ae22",
   "metadata": {},
   "outputs": [
    {
     "name": "stdout",
     "output_type": "stream",
     "text": [
      "Bagging Classifier Accuracy  0.7987012987012987\n"
     ]
    }
   ],
   "source": [
    "from sklearn.ensemble import BaggingClassifier\n",
    "\n",
    "#Bagging Decision Tree Classifier\n",
    "#initialize base classifier\n",
    "dec_tree_cls=DecisionTreeClassifier()\n",
    "\n",
    "#number of base classifier\n",
    "no_of_trees=25\n",
    "\n",
    "#bagging classifier\n",
    "bag_cls=BaggingClassifier(base_estimator=dec_tree_cls,n_estimators=no_of_trees,random_state=10, bootstrap=True, oob_score=True)\n",
    "\n",
    "bag_cls.fit(X_train,y_train)\n",
    "bag_cls.predict(X_test)\n",
    "print(\"Bagging Classifier Accuracy \",bag_cls.score(X_test,y_test))\n"
   ]
  },
  {
   "cell_type": "code",
   "execution_count": 11,
   "id": "f6c5cc50",
   "metadata": {},
   "outputs": [
    {
     "name": "stdout",
     "output_type": "stream",
     "text": [
      "Bagging Classifier Accuracy  0.7857142857142857\n"
     ]
    }
   ],
   "source": [
    "#Bagging KNN Classifier\n",
    "#initialize base classifier\n",
    "knn_cls=KNeighborsClassifier(n_neighbors=12)\n",
    "#number of base classifier\n",
    "no_of_trees=25\n",
    "#bagging classifier\n",
    "bag_cls=BaggingClassifier(base_estimator=knn_cls,n_estimators=no_of_trees,random_state=10, bootstrap=True, oob_score=True)\n",
    "bag_cls.fit(X_train,y_train)\n",
    "bag_cls.predict(X_test)\n",
    "print(\"Bagging Classifier Accuracy \",bag_cls.score(X_test,y_test))\n"
   ]
  },
  {
   "cell_type": "markdown",
   "id": "0f68f71a",
   "metadata": {},
   "source": [
    "KNN me no improvenment cuz voh stable classifier hai."
   ]
  },
  {
   "cell_type": "markdown",
   "id": "f32e05ab",
   "metadata": {},
   "source": [
    "Decision tree me all the features are included.Random forest is a combination of decision tree and bagging.Bagging is splitting of training data and predicting indivual model performance."
   ]
  },
  {
   "cell_type": "markdown",
   "id": "86f7f6d9",
   "metadata": {},
   "source": [
    "Random forest me there are several decision trees and not all decision tree will have all the features.Random forest improves the accuracy of decision tree"
   ]
  },
  {
   "cell_type": "code",
   "execution_count": 12,
   "id": "faa723b6",
   "metadata": {},
   "outputs": [
    {
     "name": "stdout",
     "output_type": "stream",
     "text": [
      "Random Forest Accuracy  0.8311688311688312\n"
     ]
    }
   ],
   "source": [
    "##Random forest\n",
    "from sklearn.ensemble import RandomForestClassifier\n",
    "rnd_cls=RandomForestClassifier(n_estimators=53, n_jobs=1,random_state=8)\n",
    "rnd_cls.fit(X_train,y_train)\n",
    "rnd_cls.predict(X_test)\n",
    "print(\"Random Forest Accuracy \",rnd_cls.score(X_test,y_test))\n"
   ]
  },
  {
   "cell_type": "code",
   "execution_count": null,
   "id": "a6595a20",
   "metadata": {},
   "outputs": [],
   "source": [
    "Boosting:The main objective of boosting is to reduce the bias."
   ]
  },
  {
   "cell_type": "code",
   "execution_count": 13,
   "id": "6022a2e4",
   "metadata": {},
   "outputs": [
    {
     "name": "stdout",
     "output_type": "stream",
     "text": [
      "Adaboost Accuracy  0.8116883116883117\n"
     ]
    }
   ],
   "source": [
    "\n",
    "##Adaboost technique\n",
    "from sklearn.ensemble import AdaBoostClassifier\n",
    "abs_cls=AdaBoostClassifier(base_estimator=lrc,n_estimators=153,learning_rate=1)\n",
    "abs_cls.fit(X_train,y_train)\n",
    "y_abs_predict=abs_cls.predict(X_test)\n",
    "print(\"Adaboost Accuracy \",abs_cls.score(X_test,y_test))\n"
   ]
  },
  {
   "cell_type": "code",
   "execution_count": null,
   "id": "06870614",
   "metadata": {},
   "outputs": [],
   "source": []
  },
  {
   "cell_type": "code",
   "execution_count": 14,
   "id": "20c63cb2",
   "metadata": {},
   "outputs": [
    {
     "name": "stdout",
     "output_type": "stream",
     "text": [
      "GBM Accuracy  0.8246753246753247\n"
     ]
    }
   ],
   "source": [
    "#Gradient Boosting Model\n",
    "from sklearn.ensemble import GradientBoostingClassifier\n",
    "\n",
    "gb_clf=GradientBoostingClassifier( n_estimators=153,learning_rate=0.05, random_state=0)\n",
    "gb_clf.fit(X_train,y_train)\n",
    "y_gbclf_pred=gb_clf.predict(X_test)\n",
    "print('GBM Accuracy ',gb_clf.score(X_test,y_test))\n"
   ]
  },
  {
   "cell_type": "code",
   "execution_count": null,
   "id": "0aef6860",
   "metadata": {},
   "outputs": [],
   "source": []
  }
 ],
 "metadata": {
  "kernelspec": {
   "display_name": "Python 3 (ipykernel)",
   "language": "python",
   "name": "python3"
  },
  "language_info": {
   "codemirror_mode": {
    "name": "ipython",
    "version": 3
   },
   "file_extension": ".py",
   "mimetype": "text/x-python",
   "name": "python",
   "nbconvert_exporter": "python",
   "pygments_lexer": "ipython3",
   "version": "3.9.7"
  }
 },
 "nbformat": 4,
 "nbformat_minor": 5
}
